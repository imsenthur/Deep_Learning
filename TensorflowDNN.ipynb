{
 "cells": [
  {
   "cell_type": "code",
   "execution_count": null,
   "metadata": {},
   "outputs": [],
   "source": [
    "import tensorflow as tf"
   ]
  },
  {
   "cell_type": "code",
   "execution_count": null,
   "metadata": {},
   "outputs": [],
   "source": [
    "from tensorflow.examples.tutorials.mnist import input_data\n",
    "mnist = input_data.read_data_sets(\"/tmp/data/\", one_hot=True)"
   ]
  },
  {
   "cell_type": "code",
   "execution_count": null,
   "metadata": {},
   "outputs": [],
   "source": [
    "sess = tf.InteractiveSession()"
   ]
  },
  {
   "cell_type": "code",
   "execution_count": null,
   "metadata": {},
   "outputs": [],
   "source": [
    "def linear_layer(X, n_input, n_output, activation=False, scope=False):\n",
    "    \n",
    "    with tf.variable_scope(scope or 'Linear', reuse=tf.AUTO_REUSE):\n",
    "        \n",
    "        W = tf.get_variable(name='W',\n",
    "                           shape=[n_input, n_output],\n",
    "                           initializer=tf.random_normal_initializer(mean=0.0, stddev=0.1))\n",
    "        b = tf.get_variable(name='b',\n",
    "                           shape=[n_output],\n",
    "                           initializer=tf.constant_initializer())\n",
    "        h = tf.matmul(X,W) + b\n",
    "        \n",
    "        if activation is not None:\n",
    "            h = activation(h)\n",
    "            \n",
    "        return h"
   ]
  },
  {
   "cell_type": "code",
   "execution_count": null,
   "metadata": {},
   "outputs": [],
   "source": [
    "def distance(a, b):\n",
    "    return tf.abs(a-b)"
   ]
  },
  {
   "cell_type": "code",
   "execution_count": null,
   "metadata": {},
   "outputs": [],
   "source": [
    "n_classes = 10\n",
    "n_samples = mnist.train.num_examples\n",
    "X = tf.placeholder(dtype='float', shape=[None, 784], name='X')\n",
    "y = tf.placeholder(dtype='float', shape=[None, n_classes], name='y')"
   ]
  },
  {
   "cell_type": "code",
   "execution_count": null,
   "metadata": {},
   "outputs": [],
   "source": [
    "network = [784, 256, 10]\n",
    "current_input = X\n",
    "\n",
    "for i in range(1,len(network)):\n",
    "    current_input = linear_layer(current_input,\n",
    "                                 n_input= network[i-1], \n",
    "                                 n_output= network[i],\n",
    "                                 activation= tf.nn.softmax if (i+1)<len(network) else None,\n",
    "                                 scope= 'layer_' + str(i))\n",
    "\n",
    "\n",
    "y_pred = current_input"
   ]
  },
  {
   "cell_type": "code",
   "execution_count": null,
   "metadata": {},
   "outputs": [],
   "source": [
    "learning_rate = 0.5\n",
    "cross_entropy = tf.reduce_mean(-tf.reduce_sum(y * tf.log(y_pred), reduction_indices=[1]))\n",
    "optimizer = tf.train.GradientDescentOptimizer(learning_rate).minimize(cross_entropy)"
   ]
  },
  {
   "cell_type": "code",
   "execution_count": null,
   "metadata": {},
   "outputs": [],
   "source": [
    "training_epochs = 500\n",
    "batch_size = 100\n",
    "    \n",
    "sess.run(tf.initialize_all_variables())\n",
    "\n",
    "for i in range(training_epochs):\n",
    "    n_batches = n_samples//batch_size\n",
    "    for n in range(n_batches):\n",
    "        batch_x, batch_y = mnist.train.next_batch(batch_size)\n",
    "        sess.run(optimizer, feed_dict={X:batch_x, y:batch_y})\n",
    "    #print('Epoch {}: done.'.format(i+1))\n",
    "\n",
    "print('Training done.')\n",
    "    \n",
    "    "
   ]
  },
  {
   "cell_type": "code",
   "execution_count": null,
   "metadata": {},
   "outputs": [],
   "source": [
    "correct_prediction = tf.equal(tf.argmax(y_pred,1), tf.argmax(y,1))\n",
    "accuracy = tf.reduce_mean(tf.cast(correct_prediction, tf.float32))\n",
    "print(sess.run(accuracy, feed_dict={X: mnist.test.images, y: mnist.test.labels}))"
   ]
  },
  {
   "cell_type": "code",
   "execution_count": null,
   "metadata": {},
   "outputs": [],
   "source": []
  },
  {
   "cell_type": "code",
   "execution_count": null,
   "metadata": {},
   "outputs": [],
   "source": []
  }
 ],
 "metadata": {
  "kernelspec": {
   "display_name": "Python 3",
   "language": "python",
   "name": "python3"
  },
  "language_info": {
   "codemirror_mode": {
    "name": "ipython",
    "version": 3
   },
   "file_extension": ".py",
   "mimetype": "text/x-python",
   "name": "python",
   "nbconvert_exporter": "python",
   "pygments_lexer": "ipython3",
   "version": "3.5.2"
  }
 },
 "nbformat": 4,
 "nbformat_minor": 2
}
